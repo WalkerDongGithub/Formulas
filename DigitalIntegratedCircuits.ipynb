{
 "cells": [
  {
   "cell_type": "markdown",
   "metadata": {},
   "source": [
    "# 《数字集成电路》"
   ]
  },
  {
   "cell_type": "code",
   "execution_count": 23,
   "metadata": {},
   "outputs": [],
   "source": [
    "import numpy as np\n",
    "import sympy as sp\n",
    "import matplotlib.pyplot as plt \n",
    "import seaborn as sns \n",
    "import pandas as pd \n",
    "BoltzmannConstant = 1.38e-23 # J/K\n",
    "ChargeOfAnElectron = 1.6e-19 # C\n",
    "class Material:\n",
    "    def __init__(self, B, Eg, Is, epsilon):\n",
    "        self.B = B\n",
    "        self.Eg = Eg\n",
    "        self.Is = Is \n",
    "        self.epsilon = epsilon \n",
    "SiB = 5.23e15 # cm^-3 K^(-3/2)\n",
    "eV = 1.602176565e-19\n",
    "SiEg = 1.1 # eV\n",
    "SiIs = 1e-17 # A/mum^2\n",
    "Siepsilon = 1.053e-10\n",
    "epsilonOx = 3.5e-11\n",
    "\n",
    "Si = Material(SiB, SiEg, SiIs, Siepsilon)\n",
    "\n"
   ]
  },
  {
   "cell_type": "markdown",
   "metadata": {},
   "source": [
    "## 第一章 引论"
   ]
  },
  {
   "cell_type": "code",
   "execution_count": 22,
   "metadata": {},
   "outputs": [
    {
     "data": {
      "text/plain": [
       "0.6327038794830573"
      ]
     },
     "execution_count": 22,
     "metadata": {},
     "output_type": "execute_result"
    }
   ],
   "source": [
    "T = 300 # K 工作温度\n",
    "\n",
    "# PN 结的工作参数\n",
    "def ni(mat: Material, T):\n",
    "    B = mat.B\n",
    "    Eg = mat.Eg * eV\n",
    "    return B * T ** (3/2) * np.exp(-Eg / (2 * BoltzmannConstant * T))\n",
    "def PhiT(T): # 热电势，与工作温度有关的一个变量\n",
    "    return T * BoltzmannConstant / ChargeOfAnElectron\n",
    "def Phi0(mat: Material, T, Na, Nd): # Na: /cm^3 Nd: /cm^3 内建电势\n",
    "    return PhiT(T) * np.log(Na * Nd / (ni(met, T) ** 2))\n",
    "\n",
    "def PhiF(mat: Material, T, Na):\n",
    "    return - PhiT(T) * np.log(Na / ni(mat, T))\n",
    "PhiF(Si, T, Na=)\n",
    "# Phi0(Si, T, 1e15, 1e16)\n",
    "\n"
   ]
  },
  {
   "cell_type": "code",
   "execution_count": 26,
   "metadata": {},
   "outputs": [
    {
     "data": {
      "text/latex": [
       "$\\displaystyle k_{n} \\left(- \\frac{V_{ds}^{2}}{2} + V_{ds} \\left(- V_{T0} + V_{gs} - \\gamma \\sqrt{- 2 \\Phi_{F} + V_{SB}} + \\sqrt{2} \\sqrt{\\left|{\\Phi_{F}}\\right|}\\right)\\right)$"
      ],
      "text/plain": [
       "k_n*(-V_{ds}**2/2 + V_{ds}*(-V_{T0} + V_{gs} - gamma*sqrt(-2*Phi_F + V_{SB}) + sqrt(2)*sqrt(Abs(Phi_F))))"
      ]
     },
     "execution_count": 26,
     "metadata": {},
     "output_type": "execute_result"
    }
   ],
   "source": [
    "\n",
    "\n",
    "VT, VT0, Vgs, Vds, gamma, phiF, Vsb = sp.symbols(\"V_{T} V_{T0} V_{gs} V_{ds} gamma Phi_F V_{SB}\")\n",
    "VT = VT0 + gamma * sp.sqrt((-2)*phiF + Vsb) - sp.sqrt(sp.Abs(2*phiF))\n",
    "def IdLinear(kn, Vgs, Vt, Vds):\n",
    "    return kn * ((Vgs - Vt) * Vds - Vds**2 / 2)\n",
    "kn = sp.symbols(\"k_n\")\n",
    "IdLinear(kn, Vgs, VT, Vds)"
   ]
  },
  {
   "cell_type": "code",
   "execution_count": 33,
   "metadata": {},
   "outputs": [
    {
     "data": {
      "text/latex": [
       "$\\displaystyle - V_{DD} + V_{out}$"
      ],
      "text/plain": [
       "-V_{DD} + V_{out}"
      ]
     },
     "execution_count": 33,
     "metadata": {},
     "output_type": "execute_result"
    }
   ],
   "source": [
    "# PMOS \n",
    "Vdd, Vin, Vout = sp.symbols('V_{DD} V_{in} V_{out}')\n",
    "Vsp, Vdp, Vgp = Vdd, Vout, Vin\n",
    "Vsn, Vdn, Vgn = 0, Vout, Vin\n",
    "Vgsn = Vgn - Vsn \n",
    "Vgsp = Vgp - Vsp\n",
    "Vdsn = Vdn - Vsn \n",
    "Vdsp = Vdp - Vsp \n",
    "Vdsp"
   ]
  },
  {
   "cell_type": "code",
   "execution_count": 34,
   "metadata": {},
   "outputs": [
    {
     "data": {
      "text/latex": [
       "$\\displaystyle V_{out}$"
      ],
      "text/plain": [
       "V_{out}"
      ]
     },
     "execution_count": 34,
     "metadata": {},
     "output_type": "execute_result"
    }
   ],
   "source": [
    "Vdsn"
   ]
  },
  {
   "cell_type": "code",
   "execution_count": 35,
   "metadata": {},
   "outputs": [
    {
     "data": {
      "text/latex": [
       "$\\displaystyle - V_{DD} + V_{out}$"
      ],
      "text/plain": [
       "-V_{DD} + V_{out}"
      ]
     },
     "execution_count": 35,
     "metadata": {},
     "output_type": "execute_result"
    }
   ],
   "source": [
    "Vdsp"
   ]
  },
  {
   "cell_type": "code",
   "execution_count": 36,
   "metadata": {},
   "outputs": [
    {
     "data": {
      "text/latex": [
       "$\\displaystyle V_{in}$"
      ],
      "text/plain": [
       "V_{in}"
      ]
     },
     "execution_count": 36,
     "metadata": {},
     "output_type": "execute_result"
    }
   ],
   "source": [
    "Vgsn"
   ]
  },
  {
   "cell_type": "code",
   "execution_count": 37,
   "metadata": {},
   "outputs": [
    {
     "data": {
      "text/latex": [
       "$\\displaystyle - V_{DD} + V_{in}$"
      ],
      "text/plain": [
       "-V_{DD} + V_{in}"
      ]
     },
     "execution_count": 37,
     "metadata": {},
     "output_type": "execute_result"
    }
   ],
   "source": [
    "Vgsp"
   ]
  },
  {
   "cell_type": "code",
   "execution_count": 42,
   "metadata": {},
   "outputs": [
    {
     "data": {
      "text/latex": [
       "$\\displaystyle V_{DD} k_{p} - \\frac{V_{DSATn} k_{n}}{2} + \\frac{V_{DSATp} k_{p}}{2} - V_{Tn} k_{n} + V_{Tp} k_{p} + V_{m} \\left(k_{n} - k_{p}\\right)$"
      ],
      "text/plain": [
       "V_{DD}*k_p - V_{DSATn}*k_n/2 + V_{DSATp}*k_p/2 - V_{Tn}*k_n + V_{Tp}*k_p + V_{m}*(k_n - k_p)"
      ]
     },
     "execution_count": 42,
     "metadata": {},
     "output_type": "execute_result"
    }
   ],
   "source": [
    "Vdsatn, Vdsatp = sp.symbols(\"V_{DSATn} V_{DSATp}\")\n",
    "Vtn, Vtp = sp.symbols(\"V_{Tn} V_{Tp}\")\n",
    "kn, kp = sp.symbols(\"k_n k_p\")\n",
    "Idsatn = kn * (Vgsn - Vtn - Vdsatn / 2)\n",
    "Idsatp = - kp * (Vgsp - Vtp - Vdsatp / 2)\n",
    "Vm = sp.symbols(\"V_{m}\")\n",
    "sp.collect(sp.expand(Idsatn + Idsatp).subs(Vin, Vm), Vm)"
   ]
  },
  {
   "cell_type": "code",
   "execution_count": 50,
   "metadata": {},
   "outputs": [
    {
     "data": {
      "text/latex": [
       "$\\displaystyle \\frac{C_{ox} V_{GT}^{2} W \\mu_{n} \\xi_{C}}{2 \\left(L \\xi_{C} + V_{GT}\\right)}$"
      ],
      "text/plain": [
       "C_{ox}*V_{GT}**2*W*mu_n*xi_C/(2*(L*xi_C + V_{GT}))"
      ]
     },
     "execution_count": 50,
     "metadata": {},
     "output_type": "execute_result"
    }
   ],
   "source": [
    "xiC, W, L = sp.symbols(\"xi_C W L\")\n",
    "Vt, Vgt = sp.symbols(\"V_T V_{GT}\")\n",
    "mun = sp.symbols(\"mu_n\")\n",
    "Cox = sp.symbols(\"C_{ox}\")\n",
    "def kv(V):\n",
    "    return 1 / (1 + V / (xiC * L))\n",
    "Vdsat = kv(Vgt) * Vgt\n",
    "Idsat = kv(Vdsat) * mun * Cox * W / L * (Vgt * Vdsat - Vdsat ** 2 / 2)\n",
    "sp.simplify(sp.expand(Idsat))"
   ]
  },
  {
   "cell_type": "code",
   "execution_count": 63,
   "metadata": {},
   "outputs": [
    {
     "data": {
      "text/latex": [
       "$\\displaystyle \\frac{2 C_{L} L \\left(- \\log{\\left(- V_{T} + \\frac{V_{DD}}{2} \\right)} + \\log{\\left(- V_{T} + V_{DD} \\right)} - \\log{\\left(2 \\right)}\\right)}{C_{ox} V_{T} W \\mu_{n}}$"
      ],
      "text/plain": [
       "2*C_{L}*L*(-log(-V_T + V_{DD}/2) + log(-V_T + V_{DD}) - log(2))/(C_{ox}*V_T*W*mu_n)"
      ]
     },
     "execution_count": 63,
     "metadata": {},
     "output_type": "execute_result"
    }
   ],
   "source": [
    "R = sp.simplify(sp.expand(Vdsat / Idsat)) # R\n",
    "V, C, Vdd = sp.symbols(\"V C_{L} V_{DD}\")\n",
    "R = R.subs(Vgt, (V - Vt))\n",
    "sp.simplify((sp.integrate(C * R / V, (V, Vdd / 2, Vdd)))) "
   ]
  },
  {
   "cell_type": "code",
   "execution_count": null,
   "metadata": {},
   "outputs": [],
   "source": []
  }
 ],
 "metadata": {
  "kernelspec": {
   "display_name": "base",
   "language": "python",
   "name": "python3"
  },
  "language_info": {
   "codemirror_mode": {
    "name": "ipython",
    "version": 3
   },
   "file_extension": ".py",
   "mimetype": "text/x-python",
   "name": "python",
   "nbconvert_exporter": "python",
   "pygments_lexer": "ipython3",
   "version": "3.9.12"
  }
 },
 "nbformat": 4,
 "nbformat_minor": 2
}
