{
 "cells": [
  {
   "cell_type": "code",
   "execution_count": 2,
   "metadata": {},
   "outputs": [],
   "source": [
    "import numpy as np\n",
    "import pandas as pd\n",
    "import matplotlib.pyplot as plt\n",
    "import seaborn as sns\n",
    "import scipy as sc \n",
    "import sympy as sy "
   ]
  },
  {
   "cell_type": "markdown",
   "metadata": {},
   "source": [
    "# Traffic Pattern\n",
    "\n",
    "使用流量矩阵$\\lambda$来描述：（个人认为类似于连续马尔可夫过程的转移矩阵的感觉）\n"
   ]
  },
  {
   "cell_type": "code",
   "execution_count": 3,
   "metadata": {},
   "outputs": [],
   "source": [
    "N = 5"
   ]
  },
  {
   "cell_type": "markdown",
   "metadata": {},
   "source": [
    "## 随机流量：到各个节点的流量都相同\n",
    "\n",
    "$\\lambda_{sd}=1/N$ 实际在做的时候我是 $1 / (N - 1)$ 因为对角线元素没有用"
   ]
  },
  {
   "cell_type": "code",
   "execution_count": 33,
   "metadata": {},
   "outputs": [
    {
     "name": "stdout",
     "output_type": "stream",
     "text": [
      "[[0.25 0.25 0.25 0.25 0.25]\n",
      " [0.25 0.25 0.25 0.25 0.25]\n",
      " [0.25 0.25 0.25 0.25 0.25]\n",
      " [0.25 0.25 0.25 0.25 0.25]\n",
      " [0.25 0.25 0.25 0.25 0.25]]\n"
     ]
    }
   ],
   "source": [
    "L = np.ones((N, N)) * (1 / (N - 1)) \n",
    "print(L)"
   ]
  },
  {
   "cell_type": "markdown",
   "metadata": {},
   "source": [
    "## 排列流量：每一个节点发送给固定的节点\n",
    "\n",
    "d = $\\pi (s)$"
   ]
  },
  {
   "cell_type": "code",
   "execution_count": 8,
   "metadata": {},
   "outputs": [
    {
     "name": "stdout",
     "output_type": "stream",
     "text": [
      "Bit permutation:  [0 0 0 0]\n",
      "Bit complement:  [-1 -2 -3 -4]\n",
      "Bit reverse:  [3 2 1 0]\n",
      "Bit rotation:  [1 2 3 0]\n",
      "Shuffle:  [3 0 1 2]\n",
      "Transpose:  [2 3 0 1]\n"
     ]
    }
   ],
   "source": [
    "import numpy as np\n",
    "\n",
    "# 定义源地址\n",
    "source = np.array([0, 1, 2, 3])\n",
    "\n",
    "# 定义位排列函数\n",
    "def bit_permutation(source, f, g):\n",
    "    return np.bitwise_xor(f(source), g(source))\n",
    "\n",
    "# 定义位补码函数\n",
    "def bit_complement(source):\n",
    "    return ~source\n",
    "\n",
    "# 定义位反转函数\n",
    "def bit_reverse(source, b):\n",
    "    return source[::-1]\n",
    "\n",
    "# 定义位旋转函数\n",
    "def bit_rotation(source, b):\n",
    "    return np.mod(source + 1, b)\n",
    "\n",
    "# 定义洗牌函数\n",
    "def shuffle(source, b):\n",
    "    return np.mod(source - 1, b)\n",
    "\n",
    "# 定义转置函数\n",
    "def transpose(source, b):\n",
    "    return np.mod(source + b//2, b)\n",
    "\n",
    "# 测试这些函数\n",
    "print(\"Bit permutation: \", bit_permutation(source, lambda x: x, lambda x: x))\n",
    "print(\"Bit complement: \", bit_complement(source))\n",
    "print(\"Bit reverse: \", bit_reverse(source, 4))\n",
    "print(\"Bit rotation: \", bit_rotation(source, 4))\n",
    "print(\"Shuffle: \", shuffle(source, 4))\n",
    "print(\"Transpose: \", transpose(source, 4))\n"
   ]
  },
  {
   "cell_type": "markdown",
   "metadata": {},
   "source": [
    "# 利用多商品流问题的变体来求解理想最大吞吐量\n",
    "\n",
    "通过修改多商品流问题的需求满足约束，将需求从恒定值改为可变值，然后目标函数即最大化需求，通过观察需求值的最大值来判断网络在某一种流量模式下的理想最大吞吐\n",
    "\n",
    "## 多商品流问题的约束条件如下：\n",
    "\n",
    "1. **容量限制**：对于每一条边(u, v)，所有商品的流量之和不能超过这条边的容量。用数学公式表示就是：\n",
    "   $$\\sum_{i=1}^{k}f_{i}(u,v)\\leq c(u,v)$$\n",
    "   这里，$f_{i}(u,v)$表示商品$i$从节点$u$到节点$v$的流量，$c(u,v)$表示边(u, v)的容量。\n",
    "\n",
    "2. **流守恒**：对于每一个商品$i$和每一个非源非汇节点$u$，进入节点$u$的流量之和等于离开节点$u$的流量之和。用数学公式表示就是：\n",
    "   $$\\sum_{q\\in V}f_{i}(u,q)-\\sum_{w\\in V}f_{i}(w,u)=0\\quad \\mathrm {when} \\quad u\\neq s_{i},t_{i}$$\n",
    "   这里，$s_{i}$和$t_{i}$分别表示商品$i$的源节点和汇节点。\n",
    "\n",
    "3. **需求的满足**：对于每一个商品$i$，从源节点$s_{i}$出发的流量之和等于进入汇节点$t_{i}$的流量之和，也就是商品$i$的需求量$d_{i}$。用数学公式表示就是：\n",
    "   $$\\sum_{w\\in V}f_{i}(s_{i},w)=d_{i}\\Leftrightarrow \\sum_{w\\in V}f_{i}(w,t_{i})=d_{i}$$\n",
    "\n",
    "这些约束条件确保了每一个商品的流量在网络中的传输不会超过任何一条边的容量，同时也满足了每一个商品的需求量。\n",
    "\n",
    "## 问题对求解最大吞吐的适配\n",
    "这里为了求解最大吞吐，我修改了这个约束条件，使得需求成为我要寻找的决策变量，即：\n",
    "\n",
    "首先使用流量矩阵 $L$ 来表示一种特定的流量模式，即上文提到的流量模式，然后使用描述吞吐量指标的$d$，他们的含义是：\n",
    "\n",
    "L的每一个非对角线元素则为，假设节点i传输1单位流量，则$L_{ij}$为节点i传输到j的流量，d则代表节点i将会传输d单位的流量，所以实际的流量传输为$dL$\n",
    "\n",
    "1. **容量限制**：对于每一条边(u, v)，所有传输流量之和不能超过这条边的容量。用数学公式表示就是：\n",
    "   $$\\sum_{i=1}^{k}f_{i}(u,v)\\leq c(u,v)$$\n",
    "   这里，$f_{i}(u,v)$表示商品$i$从节点$u$到节点$v$的流量，$c(u,v)$表示边(u, v)的容量。\n",
    "\n",
    "2. **流守恒**：对于每一个传输$i$和每一个非源非汇节点$u$，进入节点$u$的流量之和等于离开节点$u$的流量之和。用数学公式表示就是：\n",
    "   $$\\sum_{q\\in V}f_{i}(u,q)-\\sum_{w\\in V}f_{i}(w,u)=0\\quad \\mathrm {when} \\quad u\\neq s_{i},t_{i}$$\n",
    "   这里，$s_{i}$和$t_{i}$分别表示商品$i$的源节点和汇节点。\n",
    "\n",
    "3. **需求的满足**：对于每一个传输$i$，从源节点$s_{i}$出发的流量之和等于进入汇节点$t_{i}$的流量之和，也就是转移矩阵中每一个非对角线元素，记为$L_{s_i t_i}$的值乘以吞吐指标$d$。用数学公式表示就是：\n",
    "   $$\\sum_{w\\in V}f_{i}(s_{i},w)=d * L_{s_i t_i}\\Leftrightarrow \\sum_{w\\in V}f_{i}(w,t_{i})= d * L_{s_i t_i}$$\n",
    "\n",
    "而目标函数就是: \n",
    "$$\\max d$$\n",
    "\n",
    "\n",
    "目前求解结果如下：\n",
    "- 对于 2D-mesh 网络，理想最大吞吐不超过2\n",
    "- 对于 2D-torus 网络，理想最大吞吐不超过4，并随网络规模增大而逐渐递减"
   ]
  },
  {
   "cell_type": "code",
   "execution_count": 2,
   "metadata": {},
   "outputs": [],
   "source": [
    "import math\n",
    "import random\n",
    "import cvxpy as cp\n",
    "import numpy as np\n",
    "\n",
    "def get_ring(size):\n",
    "    e = []\n",
    "\n",
    "def get_torus(size):\n",
    "    # 构造网络边\n",
    "    e = []\n",
    "    for i in range(size):\n",
    "        for j in range(size):\n",
    "            loc = lambda i, j : i * size + j\n",
    "            left = loc((i - 1 + size) % size, j)\n",
    "            right = loc((i + 1) % size, j)\n",
    "            up = loc(i, (j + 1) % size)\n",
    "            down = loc(i, (j - 1 + size) % size)\n",
    "            this = loc(i, j)\n",
    "            to = [left, right, up, down]\n",
    "            for y in to:\n",
    "                if y is None:\n",
    "                    continue\n",
    "                e.append((this, y, 1.0))\n",
    "    return e\n",
    "\n",
    "def get_mesh(size):\n",
    "    # 构造网络边\n",
    "    e = []\n",
    "    for i in range(size):\n",
    "        for j in range(size):\n",
    "            loc = lambda i, j : i * size + j\n",
    "            left = loc(i - 1, j) if i - 1 >= 0 else None\n",
    "            right = loc(i + 1, j) if i + 1 < size else None \n",
    "            up = loc(i, j - 1) if j - 1 >= 0 else None \n",
    "            down = loc(i, j + 1) if j + 1 < size else None\n",
    "            this = loc(i, j)\n",
    "            to = [left, right, up, down]\n",
    "            for y in to:\n",
    "                if y is None:\n",
    "                    continue\n",
    "                e.append((this, y, 1.0))\n",
    "    return e\n",
    "\n",
    "def get_random_traffic_pattern(size):\n",
    "    # 初始化流量矩阵\n",
    "    L = np.ones((size, size)) * (1 / (size - 1))\n",
    "    return L\n",
    "\n",
    "def get_traffic_pattern_c(L, size):\n",
    "    # 构造流量模式\n",
    "    c = []\n",
    "    for i in range(size):\n",
    "        for j in range(size):\n",
    "            if i != j:\n",
    "                # 每个元素是一个元组，包含源节点、目标节点和需求量\n",
    "                c.append((i, j, L[i][j]))\n",
    "    return c\n",
    "\n",
    "\n",
    "def get_result(n, e, c):\n",
    "    k = len(c)\n",
    "    # 初始化变量\n",
    "    f = [[[None for _ in range(n)] for _ in range(n)] for _ in range(k)]\n",
    "    for u, v, w in e:\n",
    "        for i in range(k):\n",
    "            f[i][u][v] = cp.Variable(nonneg=True)\n",
    "    throughput = cp.Variable(nonneg=True)\n",
    "\n",
    "    def adv_sum(expr):\n",
    "        return sum([x for x in expr if x is not None])\n",
    "    # 定义约束\n",
    "    constraints = []\n",
    "\n",
    "    # 容量限制\n",
    "    real_capacity = [[None for _ in range(n)] for _ in range(n)]\n",
    "    for i in range(len(e)):\n",
    "        u, v, capacity = e[i]\n",
    "        real_capacity[u][v] = capacity\n",
    "    for i in range(n):\n",
    "        for j in range(n):\n",
    "            if real_capacity[i][j] is not None:\n",
    "                constraints.append(adv_sum([f[x][i][j] for x in range(k)]) <= real_capacity[i][j])\n",
    "\n",
    "    # 流守恒\n",
    "    for i in range(k):\n",
    "        for u in range(n):\n",
    "            s, t, d = c[i]\n",
    "            if u != s and u != t:\n",
    "                constraints.append(adv_sum([f[i][u][v] for v in range(n)]) - adv_sum(f[i][v][u] for v in range(n)) == 0)\n",
    "\n",
    "    # 需求的满足\n",
    "    for i in range(k):\n",
    "        s, t, d = c[i]\n",
    "        constraints.append(adv_sum([f[i][s][v] for v in range(n)]) == d * throughput)\n",
    "        constraints.append(adv_sum([f[i][v][t] for v in range(n)]) == d * throughput)\n",
    "\n",
    "    # 定义目标函数()\n",
    "    obj = cp.Maximize(throughput)\n",
    "\n",
    "    # 构造问题\n",
    "    prob = cp.Problem(obj, constraints)\n",
    "\n",
    "    # 求解问题\n",
    "    prob.solve(solver=cp.ECOS)\n",
    "\n",
    "    return n, throughput.value\n",
    "\n",
    "# l = []\n",
    "# for i in range(4, 17, 2):\n",
    "#     x = get_result(i * i, get_torus(i), get_traffic_pattern_c(get_random_traffic_pattern(i), i))\n",
    "#     print(x)\n",
    "#     l.append(x)\n",
    "# l\n",
    "    "
   ]
  },
  {
   "cell_type": "code",
   "execution_count": 7,
   "metadata": {},
   "outputs": [
    {
     "name": "stdout",
     "output_type": "stream",
     "text": [
      "(5, 1.3333333306120365)\n"
     ]
    },
    {
     "data": {
      "text/plain": [
       "[(5, 1.3333333306120365)]"
      ]
     },
     "execution_count": 7,
     "metadata": {},
     "output_type": "execute_result"
    }
   ],
   "source": [
    "def get_ring(size):\n",
    "    # 构造网络边\n",
    "    e = []\n",
    "    for i in range(size):\n",
    "        left = (i - 1 + size) % size\n",
    "        right = (i + 1) % size\n",
    "        this = i\n",
    "        to = [left, right]\n",
    "        for y in to:\n",
    "            e.append((this, y, 1.0))\n",
    "    return e\n",
    "\n",
    "\n",
    "\n",
    "ring_res = []\n",
    "# for i in range(4, , 2):\n",
    "i = 5\n",
    "x = get_result(i, get_ring(i), get_traffic_pattern_c(get_random_traffic_pattern(i), i))\n",
    "print(x)\n",
    "ring_res.append(x)\n",
    "ring_res"
   ]
  },
  {
   "cell_type": "markdown",
   "metadata": {},
   "source": [
    "## 多商品流问题的约束条件如下：\n",
    "\n",
    "1. **容量限制**：对于每一条边(u, v)，所有商品的流量之和不能超过这条边的容量。用数学公式表示就是：\n",
    "   $$\\sum_{i=1}^{k}f_{i}(u,v)\\leq c(u,v)$$\n",
    "   这里，$f_{i}(u,v)$表示商品$i$从节点$u$到节点$v$的流量，$c(u,v)$表示边(u, v)的容量。\n",
    "\n",
    "2. **流守恒**：对于每一个商品$i$和每一个非源非汇节点$u$，进入节点$u$的流量之和等于离开节点$u$的流量之和。用数学公式表示就是：\n",
    "   $$\\sum_{q\\in V}f_{i}(u,q)-\\sum_{w\\in V}f_{i}(w,u)=0\\quad \\mathrm {when} \\quad u\\neq s_{i},t_{i}$$\n",
    "   这里，$s_{i}$和$t_{i}$分别表示商品$i$的源节点和汇节点。\n",
    "\n",
    "3. **需求的满足**：对于每一个商品$i$，从源节点$s_{i}$出发的流量之和等于进入汇节点$t_{i}$的流量之和，也就是商品$i$的需求量$d_{i}$。用数学公式表示就是：\n",
    "   $$\\sum_{w\\in V}f_{i}(s_{i},w)=d_{i}\\Leftrightarrow \\sum_{w\\in V}f_{i}(w,t_{i})=d_{i}$$\n",
    "\n",
    "这些约束条件确保了每一个商品的流量在网络中的传输不会超过任何一条边的容量，同时也满足了每一个商品的需求量。\n",
    "\n",
    "## 问题对求解最大吞吐的适配\n",
    "这里为了求解最大吞吐，我修改了这个约束条件，使得需求成为我要寻找的决策变量，即：\n",
    "\n",
    "1. **容量限制**：对于每一条边(u, v)，所有传输流量之和不能超过这条边的容量。用数学公式表示就是：\n",
    "   $$\\sum_{i=1}^{k}f_{i}(u,v)\\leq c(u,v)$$\n",
    "   这里，$f_{i}(u,v)$表示商品$i$从节点$u$到节点$v$的流量，$c(u,v)$表示边(u, v)的容量。\n",
    "\n",
    "2. **流守恒**：对于每一个传输$i$和每一个非源非汇节点$u$，进入节点$u$的流量之和等于离开节点$u$的流量之和。用数学公式表示就是：\n",
    "   $$\\sum_{q\\in V}f_{i}(u,q)-\\sum_{w\\in V}f_{i}(w,u)=0\\quad \\mathrm {when} \\quad u\\neq s_{i},t_{i}$$\n",
    "   这里，$s_{i}$和$t_{i}$分别表示商品$i$的源节点和汇节点。\n",
    "\n",
    "3. **需求的满足**：对于每一个传输$i$，从源节点$s_{i}$出发的流量之和等于进入汇节点$t_{i}$的流量之和，也就是转移矩阵中每一个非对角线元素，记为$L_{s_i t_i}$的值乘以吞吐指标$d$。用数学公式表示就是：\n",
    "   $$\\sum_{w\\in V}f_{i}(s_{i},w)=d * L_{s_i t_i}\\Leftrightarrow \\sum_{w\\in V}f_{i}(w,t_{i})= d * L_{s_i t_i}$$\n",
    "\n",
    "而目标函数就是: \n",
    "$$\\max d$$"
   ]
  },
  {
   "cell_type": "markdown",
   "metadata": {},
   "source": []
  }
 ],
 "metadata": {
  "kernelspec": {
   "display_name": "base",
   "language": "python",
   "name": "python3"
  },
  "language_info": {
   "codemirror_mode": {
    "name": "ipython",
    "version": 3
   },
   "file_extension": ".py",
   "mimetype": "text/x-python",
   "name": "python",
   "nbconvert_exporter": "python",
   "pygments_lexer": "ipython3",
   "version": "3.9.12"
  }
 },
 "nbformat": 4,
 "nbformat_minor": 2
}
